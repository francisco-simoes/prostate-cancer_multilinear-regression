{
 "cells": [
  {
   "cell_type": "markdown",
   "metadata": {},
   "source": [
    "# Prostate Cancer (modelling lpsa levels)"
   ]
  },
  {
   "cell_type": "markdown",
   "metadata": {},
   "source": [
    "Prostate specific antigen is useful as a preoperative marker for patients with prostate cancer [Stamey].\n",
    "We will use the dataset from [Hastie] (and [Stamey]) to model the dependence of the logarithm of prostate specific antigen (lpsa) on the given (8) predictors.\n",
    "We will use multilinear regression, and will choose what predictors to keep using backwards stepwise selection.\n",
    "One of the goals of this project is to make sure we understand all the concepts involved in the data analysis, and thus role Z-scores and p-values in the backwards selection section will be discussed in some detail."
   ]
  },
  {
   "cell_type": "code",
   "execution_count": 43,
   "metadata": {},
   "outputs": [],
   "source": [
    "import pandas as pd\n",
    "import numpy as np\n",
    "import matplotlib.pyplot as plt\n",
    "import sklearn.metrics as skmetrics\n",
    "from sklearn.preprocessing import StandardScaler\n",
    "from sklearn.linear_model import LinearRegression\n",
    "import statsmodels.api as sm\n",
    "from scipy import stats\n",
    "%matplotlib inline"
   ]
  },
  {
   "cell_type": "code",
   "execution_count": 44,
   "metadata": {},
   "outputs": [
    {
     "data": {
      "text/plain": [
       "'0.25.1'"
      ]
     },
     "execution_count": 44,
     "metadata": {},
     "output_type": "execute_result"
    }
   ],
   "source": [
    "pd.__version__ #Made with pandas 0.25.1"
   ]
  },
  {
   "cell_type": "markdown",
   "metadata": {},
   "source": [
    "## A first look at the data"
   ]
  },
  {
   "cell_type": "code",
   "execution_count": 45,
   "metadata": {},
   "outputs": [],
   "source": [
    "df_original = pd.read_table('http://statweb.stanford.edu/~tibs/ElemStatLearn/datasets/prostate.data')"
   ]
  },
  {
   "cell_type": "code",
   "execution_count": 46,
   "metadata": {},
   "outputs": [
    {
     "name": "stdout",
     "output_type": "stream",
     "text": [
      "columns: ['Unnamed: 0', 'lcavol', 'lweight', 'age', 'lbph', 'svi', 'lcp', 'gleason', 'pgg45', 'lpsa', 'train']\n"
     ]
    },
    {
     "data": {
      "text/html": [
       "<div>\n",
       "<style scoped>\n",
       "    .dataframe tbody tr th:only-of-type {\n",
       "        vertical-align: middle;\n",
       "    }\n",
       "\n",
       "    .dataframe tbody tr th {\n",
       "        vertical-align: top;\n",
       "    }\n",
       "\n",
       "    .dataframe thead th {\n",
       "        text-align: right;\n",
       "    }\n",
       "</style>\n",
       "<table border=\"1\" class=\"dataframe\">\n",
       "  <thead>\n",
       "    <tr style=\"text-align: right;\">\n",
       "      <th></th>\n",
       "      <th>Unnamed: 0</th>\n",
       "      <th>lcavol</th>\n",
       "      <th>lweight</th>\n",
       "      <th>age</th>\n",
       "      <th>lbph</th>\n",
       "      <th>svi</th>\n",
       "      <th>lcp</th>\n",
       "      <th>gleason</th>\n",
       "      <th>pgg45</th>\n",
       "      <th>lpsa</th>\n",
       "      <th>train</th>\n",
       "    </tr>\n",
       "  </thead>\n",
       "  <tbody>\n",
       "    <tr>\n",
       "      <td>0</td>\n",
       "      <td>1</td>\n",
       "      <td>-0.579818</td>\n",
       "      <td>2.769459</td>\n",
       "      <td>50</td>\n",
       "      <td>-1.386294</td>\n",
       "      <td>0</td>\n",
       "      <td>-1.386294</td>\n",
       "      <td>6</td>\n",
       "      <td>0</td>\n",
       "      <td>-0.430783</td>\n",
       "      <td>T</td>\n",
       "    </tr>\n",
       "    <tr>\n",
       "      <td>1</td>\n",
       "      <td>2</td>\n",
       "      <td>-0.994252</td>\n",
       "      <td>3.319626</td>\n",
       "      <td>58</td>\n",
       "      <td>-1.386294</td>\n",
       "      <td>0</td>\n",
       "      <td>-1.386294</td>\n",
       "      <td>6</td>\n",
       "      <td>0</td>\n",
       "      <td>-0.162519</td>\n",
       "      <td>T</td>\n",
       "    </tr>\n",
       "    <tr>\n",
       "      <td>2</td>\n",
       "      <td>3</td>\n",
       "      <td>-0.510826</td>\n",
       "      <td>2.691243</td>\n",
       "      <td>74</td>\n",
       "      <td>-1.386294</td>\n",
       "      <td>0</td>\n",
       "      <td>-1.386294</td>\n",
       "      <td>7</td>\n",
       "      <td>20</td>\n",
       "      <td>-0.162519</td>\n",
       "      <td>T</td>\n",
       "    </tr>\n",
       "    <tr>\n",
       "      <td>3</td>\n",
       "      <td>4</td>\n",
       "      <td>-1.203973</td>\n",
       "      <td>3.282789</td>\n",
       "      <td>58</td>\n",
       "      <td>-1.386294</td>\n",
       "      <td>0</td>\n",
       "      <td>-1.386294</td>\n",
       "      <td>6</td>\n",
       "      <td>0</td>\n",
       "      <td>-0.162519</td>\n",
       "      <td>T</td>\n",
       "    </tr>\n",
       "    <tr>\n",
       "      <td>4</td>\n",
       "      <td>5</td>\n",
       "      <td>0.751416</td>\n",
       "      <td>3.432373</td>\n",
       "      <td>62</td>\n",
       "      <td>-1.386294</td>\n",
       "      <td>0</td>\n",
       "      <td>-1.386294</td>\n",
       "      <td>6</td>\n",
       "      <td>0</td>\n",
       "      <td>0.371564</td>\n",
       "      <td>T</td>\n",
       "    </tr>\n",
       "  </tbody>\n",
       "</table>\n",
       "</div>"
      ],
      "text/plain": [
       "   Unnamed: 0    lcavol   lweight  age      lbph  svi       lcp  gleason  \\\n",
       "0           1 -0.579818  2.769459   50 -1.386294    0 -1.386294        6   \n",
       "1           2 -0.994252  3.319626   58 -1.386294    0 -1.386294        6   \n",
       "2           3 -0.510826  2.691243   74 -1.386294    0 -1.386294        7   \n",
       "3           4 -1.203973  3.282789   58 -1.386294    0 -1.386294        6   \n",
       "4           5  0.751416  3.432373   62 -1.386294    0 -1.386294        6   \n",
       "\n",
       "   pgg45      lpsa train  \n",
       "0      0 -0.430783     T  \n",
       "1      0 -0.162519     T  \n",
       "2     20 -0.162519     T  \n",
       "3      0 -0.162519     T  \n",
       "4      0  0.371564     T  "
      ]
     },
     "execution_count": 46,
     "metadata": {},
     "output_type": "execute_result"
    }
   ],
   "source": [
    "print('columns: {}'.format(df_original.columns.to_list()))\n",
    "df_original.head()"
   ]
  },
  {
   "cell_type": "markdown",
   "metadata": {},
   "source": [
    "The unnamed column is useless, so we'll delete it.\n",
    "We will also delete the 'train' column, since it just lets us know what rows were used as part of the training set in the original analysis in [Hastie]."
   ]
  },
  {
   "cell_type": "code",
   "execution_count": 47,
   "metadata": {},
   "outputs": [
    {
     "data": {
      "text/html": [
       "<div>\n",
       "<style scoped>\n",
       "    .dataframe tbody tr th:only-of-type {\n",
       "        vertical-align: middle;\n",
       "    }\n",
       "\n",
       "    .dataframe tbody tr th {\n",
       "        vertical-align: top;\n",
       "    }\n",
       "\n",
       "    .dataframe thead th {\n",
       "        text-align: right;\n",
       "    }\n",
       "</style>\n",
       "<table border=\"1\" class=\"dataframe\">\n",
       "  <thead>\n",
       "    <tr style=\"text-align: right;\">\n",
       "      <th></th>\n",
       "      <th>lcavol</th>\n",
       "      <th>lweight</th>\n",
       "      <th>age</th>\n",
       "      <th>lbph</th>\n",
       "      <th>svi</th>\n",
       "      <th>lcp</th>\n",
       "      <th>gleason</th>\n",
       "      <th>pgg45</th>\n",
       "      <th>lpsa</th>\n",
       "    </tr>\n",
       "  </thead>\n",
       "  <tbody>\n",
       "    <tr>\n",
       "      <td>0</td>\n",
       "      <td>-0.579818</td>\n",
       "      <td>2.769459</td>\n",
       "      <td>50</td>\n",
       "      <td>-1.386294</td>\n",
       "      <td>0</td>\n",
       "      <td>-1.386294</td>\n",
       "      <td>6</td>\n",
       "      <td>0</td>\n",
       "      <td>-0.430783</td>\n",
       "    </tr>\n",
       "    <tr>\n",
       "      <td>1</td>\n",
       "      <td>-0.994252</td>\n",
       "      <td>3.319626</td>\n",
       "      <td>58</td>\n",
       "      <td>-1.386294</td>\n",
       "      <td>0</td>\n",
       "      <td>-1.386294</td>\n",
       "      <td>6</td>\n",
       "      <td>0</td>\n",
       "      <td>-0.162519</td>\n",
       "    </tr>\n",
       "    <tr>\n",
       "      <td>2</td>\n",
       "      <td>-0.510826</td>\n",
       "      <td>2.691243</td>\n",
       "      <td>74</td>\n",
       "      <td>-1.386294</td>\n",
       "      <td>0</td>\n",
       "      <td>-1.386294</td>\n",
       "      <td>7</td>\n",
       "      <td>20</td>\n",
       "      <td>-0.162519</td>\n",
       "    </tr>\n",
       "    <tr>\n",
       "      <td>3</td>\n",
       "      <td>-1.203973</td>\n",
       "      <td>3.282789</td>\n",
       "      <td>58</td>\n",
       "      <td>-1.386294</td>\n",
       "      <td>0</td>\n",
       "      <td>-1.386294</td>\n",
       "      <td>6</td>\n",
       "      <td>0</td>\n",
       "      <td>-0.162519</td>\n",
       "    </tr>\n",
       "    <tr>\n",
       "      <td>4</td>\n",
       "      <td>0.751416</td>\n",
       "      <td>3.432373</td>\n",
       "      <td>62</td>\n",
       "      <td>-1.386294</td>\n",
       "      <td>0</td>\n",
       "      <td>-1.386294</td>\n",
       "      <td>6</td>\n",
       "      <td>0</td>\n",
       "      <td>0.371564</td>\n",
       "    </tr>\n",
       "  </tbody>\n",
       "</table>\n",
       "</div>"
      ],
      "text/plain": [
       "     lcavol   lweight  age      lbph  svi       lcp  gleason  pgg45      lpsa\n",
       "0 -0.579818  2.769459   50 -1.386294    0 -1.386294        6      0 -0.430783\n",
       "1 -0.994252  3.319626   58 -1.386294    0 -1.386294        6      0 -0.162519\n",
       "2 -0.510826  2.691243   74 -1.386294    0 -1.386294        7     20 -0.162519\n",
       "3 -1.203973  3.282789   58 -1.386294    0 -1.386294        6      0 -0.162519\n",
       "4  0.751416  3.432373   62 -1.386294    0 -1.386294        6      0  0.371564"
      ]
     },
     "execution_count": 47,
     "metadata": {},
     "output_type": "execute_result"
    }
   ],
   "source": [
    "df = df_original.copy(deep=True)\n",
    "df = df.drop(columns=['Unnamed: 0','train'])\n",
    "df.head()"
   ]
  },
  {
   "cell_type": "code",
   "execution_count": 70,
   "metadata": {},
   "outputs": [
    {
     "data": {
      "image/png": "[encoded data removed]",
      "text/plain": [
       "<Figure size 1080x1080 with 81 Axes>"
      ]
     },
     "metadata": {
      "needs_background": "light"
     },
     "output_type": "display_data"
    }
   ],
   "source": [
    "pd.plotting.scatter_matrix(df, figsize=(15,15))\n",
    "#plt.savefig('images/scatter_prostate.png')\n",
    "plt.show()"
   ]
  },
  {
   "cell_type": "markdown",
   "metadata": {},
   "source": [
    "Notice that there are two categorical/discrete predictors/features, namely svi and gleason.  \n",
    "Also, it is immediately clear that there is a strong linear relationship between the response (independent variable) lpsa and the predictors lcavol, lweight, svi and lcp.   \n",
    "The predictors lcavol and lcp seem to be strongly related as well, so maybe we will need only one of them.\n",
    "We will explore this later."
   ]
  },
  {
   "cell_type": "code",
   "execution_count": 49,
   "metadata": {},
   "outputs": [
    {
     "data": {
      "text/html": [
       "<style  type=\"text/css\" >\n",
       "    #T_2f8433ba_5d60_11ea_8914_851643872d04row0_col0 {\n",
       "            background-color:  #023858;\n",
       "            color:  #f1f1f1;\n",
       "        }    #T_2f8433ba_5d60_11ea_8914_851643872d04row0_col1 {\n",
       "            background-color:  #d3d4e7;\n",
       "            color:  #000000;\n",
       "        }    #T_2f8433ba_5d60_11ea_8914_851643872d04row0_col2 {\n",
       "            background-color:  #ede7f2;\n",
       "            color:  #000000;\n",
       "        }    #T_2f8433ba_5d60_11ea_8914_851643872d04row0_col3 {\n",
       "            background-color:  #f0eaf4;\n",
       "            color:  #000000;\n",
       "        }    #T_2f8433ba_5d60_11ea_8914_851643872d04row0_col4 {\n",
       "            background-color:  #4e9ac6;\n",
       "            color:  #000000;\n",
       "        }    #T_2f8433ba_5d60_11ea_8914_851643872d04row0_col5 {\n",
       "            background-color:  #2182b9;\n",
       "            color:  #000000;\n",
       "        }    #T_2f8433ba_5d60_11ea_8914_851643872d04row0_col6 {\n",
       "            background-color:  #9ebad9;\n",
       "            color:  #000000;\n",
       "        }    #T_2f8433ba_5d60_11ea_8914_851643872d04row0_col7 {\n",
       "            background-color:  #a2bcda;\n",
       "            color:  #000000;\n",
       "        }    #T_2f8433ba_5d60_11ea_8914_851643872d04row0_col8 {\n",
       "            background-color:  #2081b9;\n",
       "            color:  #000000;\n",
       "        }    #T_2f8433ba_5d60_11ea_8914_851643872d04row1_col0 {\n",
       "            background-color:  #cdd0e5;\n",
       "            color:  #000000;\n",
       "        }    #T_2f8433ba_5d60_11ea_8914_851643872d04row1_col1 {\n",
       "            background-color:  #023858;\n",
       "            color:  #f1f1f1;\n",
       "        }    #T_2f8433ba_5d60_11ea_8914_851643872d04row1_col2 {\n",
       "            background-color:  #cdd0e5;\n",
       "            color:  #000000;\n",
       "        }    #T_2f8433ba_5d60_11ea_8914_851643872d04row1_col3 {\n",
       "            background-color:  #79abd0;\n",
       "            color:  #000000;\n",
       "        }    #T_2f8433ba_5d60_11ea_8914_851643872d04row1_col4 {\n",
       "            background-color:  #d7d6e9;\n",
       "            color:  #000000;\n",
       "        }    #T_2f8433ba_5d60_11ea_8914_851643872d04row1_col5 {\n",
       "            background-color:  #e2dfee;\n",
       "            color:  #000000;\n",
       "        }    #T_2f8433ba_5d60_11ea_8914_851643872d04row1_col6 {\n",
       "            background-color:  #fff7fb;\n",
       "            color:  #000000;\n",
       "        }    #T_2f8433ba_5d60_11ea_8914_851643872d04row1_col7 {\n",
       "            background-color:  #faf3f9;\n",
       "            color:  #000000;\n",
       "        }    #T_2f8433ba_5d60_11ea_8914_851643872d04row1_col8 {\n",
       "            background-color:  #b9c6e0;\n",
       "            color:  #000000;\n",
       "        }    #T_2f8433ba_5d60_11ea_8914_851643872d04row2_col0 {\n",
       "            background-color:  #dad9ea;\n",
       "            color:  #000000;\n",
       "        }    #T_2f8433ba_5d60_11ea_8914_851643872d04row2_col1 {\n",
       "            background-color:  #bcc7e1;\n",
       "            color:  #000000;\n",
       "        }    #T_2f8433ba_5d60_11ea_8914_851643872d04row2_col2 {\n",
       "            background-color:  #023858;\n",
       "            color:  #f1f1f1;\n",
       "        }    #T_2f8433ba_5d60_11ea_8914_851643872d04row2_col3 {\n",
       "            background-color:  #9cb9d9;\n",
       "            color:  #000000;\n",
       "        }    #T_2f8433ba_5d60_11ea_8914_851643872d04row2_col4 {\n",
       "            background-color:  #dfddec;\n",
       "            color:  #000000;\n",
       "        }    #T_2f8433ba_5d60_11ea_8914_851643872d04row2_col5 {\n",
       "            background-color:  #eae6f1;\n",
       "            color:  #000000;\n",
       "        }    #T_2f8433ba_5d60_11ea_8914_851643872d04row2_col6 {\n",
       "            background-color:  #d6d6e9;\n",
       "            color:  #000000;\n",
       "        }    #T_2f8433ba_5d60_11ea_8914_851643872d04row2_col7 {\n",
       "            background-color:  #d9d8ea;\n",
       "            color:  #000000;\n",
       "        }    #T_2f8433ba_5d60_11ea_8914_851643872d04row2_col8 {\n",
       "            background-color:  #fff7fb;\n",
       "            color:  #000000;\n",
       "        }    #T_2f8433ba_5d60_11ea_8914_851643872d04row3_col0 {\n",
       "            background-color:  #fff7fb;\n",
       "            color:  #000000;\n",
       "        }    #T_2f8433ba_5d60_11ea_8914_851643872d04row3_col1 {\n",
       "            background-color:  #99b8d8;\n",
       "            color:  #000000;\n",
       "        }    #T_2f8433ba_5d60_11ea_8914_851643872d04row3_col2 {\n",
       "            background-color:  #cccfe5;\n",
       "            color:  #000000;\n",
       "        }    #T_2f8433ba_5d60_11ea_8914_851643872d04row3_col3 {\n",
       "            background-color:  #023858;\n",
       "            color:  #f1f1f1;\n",
       "        }    #T_2f8433ba_5d60_11ea_8914_851643872d04row3_col4 {\n",
       "            background-color:  #fff7fb;\n",
       "            color:  #000000;\n",
       "        }    #T_2f8433ba_5d60_11ea_8914_851643872d04row3_col5 {\n",
       "            background-color:  #fff7fb;\n",
       "            color:  #000000;\n",
       "        }    #T_2f8433ba_5d60_11ea_8914_851643872d04row3_col6 {\n",
       "            background-color:  #fcf4fa;\n",
       "            color:  #000000;\n",
       "        }    #T_2f8433ba_5d60_11ea_8914_851643872d04row3_col7 {\n",
       "            background-color:  #fff7fb;\n",
       "            color:  #000000;\n",
       "        }    #T_2f8433ba_5d60_11ea_8914_851643872d04row3_col8 {\n",
       "            background-color:  #fdf5fa;\n",
       "            color:  #000000;\n",
       "        }    #T_2f8433ba_5d60_11ea_8914_851643872d04row4_col0 {\n",
       "            background-color:  #67a4cc;\n",
       "            color:  #000000;\n",
       "        }    #T_2f8433ba_5d60_11ea_8914_851643872d04row4_col1 {\n",
       "            background-color:  #f0eaf4;\n",
       "            color:  #000000;\n",
       "        }    #T_2f8433ba_5d60_11ea_8914_851643872d04row4_col2 {\n",
       "            background-color:  #fff7fb;\n",
       "            color:  #000000;\n",
       "        }    #T_2f8433ba_5d60_11ea_8914_851643872d04row4_col3 {\n",
       "            background-color:  #fff7fb;\n",
       "            color:  #000000;\n",
       "        }    #T_2f8433ba_5d60_11ea_8914_851643872d04row4_col4 {\n",
       "            background-color:  #023858;\n",
       "            color:  #f1f1f1;\n",
       "        }    #T_2f8433ba_5d60_11ea_8914_851643872d04row4_col5 {\n",
       "            background-color:  #2383ba;\n",
       "            color:  #000000;\n",
       "        }    #T_2f8433ba_5d60_11ea_8914_851643872d04row4_col6 {\n",
       "            background-color:  #c6cce3;\n",
       "            color:  #000000;\n",
       "        }    #T_2f8433ba_5d60_11ea_8914_851643872d04row4_col7 {\n",
       "            background-color:  #97b7d7;\n",
       "            color:  #000000;\n",
       "        }    #T_2f8433ba_5d60_11ea_8914_851643872d04row4_col8 {\n",
       "            background-color:  #7dacd1;\n",
       "            color:  #000000;\n",
       "        }    #T_2f8433ba_5d60_11ea_8914_851643872d04row5_col0 {\n",
       "            background-color:  #2685bb;\n",
       "            color:  #000000;\n",
       "        }    #T_2f8433ba_5d60_11ea_8914_851643872d04row5_col1 {\n",
       "            background-color:  #eee8f3;\n",
       "            color:  #000000;\n",
       "        }    #T_2f8433ba_5d60_11ea_8914_851643872d04row5_col2 {\n",
       "            background-color:  #fef6fa;\n",
       "            color:  #000000;\n",
       "        }    #T_2f8433ba_5d60_11ea_8914_851643872d04row5_col3 {\n",
       "            background-color:  #f4eef6;\n",
       "            color:  #000000;\n",
       "        }    #T_2f8433ba_5d60_11ea_8914_851643872d04row5_col4 {\n",
       "            background-color:  #197db7;\n",
       "            color:  #000000;\n",
       "        }    #T_2f8433ba_5d60_11ea_8914_851643872d04row5_col5 {\n",
       "            background-color:  #023858;\n",
       "            color:  #f1f1f1;\n",
       "        }    #T_2f8433ba_5d60_11ea_8914_851643872d04row5_col6 {\n",
       "            background-color:  #79abd0;\n",
       "            color:  #000000;\n",
       "        }    #T_2f8433ba_5d60_11ea_8914_851643872d04row5_col7 {\n",
       "            background-color:  #4295c3;\n",
       "            color:  #000000;\n",
       "        }    #T_2f8433ba_5d60_11ea_8914_851643872d04row5_col8 {\n",
       "            background-color:  #86b0d3;\n",
       "            color:  #000000;\n",
       "        }    #T_2f8433ba_5d60_11ea_8914_851643872d04row6_col0 {\n",
       "            background-color:  #96b6d7;\n",
       "            color:  #000000;\n",
       "        }    #T_2f8433ba_5d60_11ea_8914_851643872d04row6_col1 {\n",
       "            background-color:  #fff7fb;\n",
       "            color:  #000000;\n",
       "        }    #T_2f8433ba_5d60_11ea_8914_851643872d04row6_col2 {\n",
       "            background-color:  #e2dfee;\n",
       "            color:  #000000;\n",
       "        }    #T_2f8433ba_5d60_11ea_8914_851643872d04row6_col3 {\n",
       "            background-color:  #e7e3f0;\n",
       "            color:  #000000;\n",
       "        }    #T_2f8433ba_5d60_11ea_8914_851643872d04row6_col4 {\n",
       "            background-color:  #a7bddb;\n",
       "            color:  #000000;\n",
       "        }    #T_2f8433ba_5d60_11ea_8914_851643872d04row6_col5 {\n",
       "            background-color:  #6ba5cd;\n",
       "            color:  #000000;\n",
       "        }    #T_2f8433ba_5d60_11ea_8914_851643872d04row6_col6 {\n",
       "            background-color:  #023858;\n",
       "            color:  #f1f1f1;\n",
       "        }    #T_2f8433ba_5d60_11ea_8914_851643872d04row6_col7 {\n",
       "            background-color:  #0c74b2;\n",
       "            color:  #f1f1f1;\n",
       "        }    #T_2f8433ba_5d60_11ea_8914_851643872d04row6_col8 {\n",
       "            background-color:  #d2d3e7;\n",
       "            color:  #000000;\n",
       "        }    #T_2f8433ba_5d60_11ea_8914_851643872d04row7_col0 {\n",
       "            background-color:  #96b6d7;\n",
       "            color:  #000000;\n",
       "        }    #T_2f8433ba_5d60_11ea_8914_851643872d04row7_col1 {\n",
       "            background-color:  #f7f0f7;\n",
       "            color:  #000000;\n",
       "        }    #T_2f8433ba_5d60_11ea_8914_851643872d04row7_col2 {\n",
       "            background-color:  #e0deed;\n",
       "            color:  #000000;\n",
       "        }    #T_2f8433ba_5d60_11ea_8914_851643872d04row7_col3 {\n",
       "            background-color:  #e7e3f0;\n",
       "            color:  #000000;\n",
       "        }    #T_2f8433ba_5d60_11ea_8914_851643872d04row7_col4 {\n",
       "            background-color:  #73a9cf;\n",
       "            color:  #000000;\n",
       "        }    #T_2f8433ba_5d60_11ea_8914_851643872d04row7_col5 {\n",
       "            background-color:  #328dbf;\n",
       "            color:  #000000;\n",
       "        }    #T_2f8433ba_5d60_11ea_8914_851643872d04row7_col6 {\n",
       "            background-color:  #0a73b2;\n",
       "            color:  #f1f1f1;\n",
       "        }    #T_2f8433ba_5d60_11ea_8914_851643872d04row7_col7 {\n",
       "            background-color:  #023858;\n",
       "            color:  #f1f1f1;\n",
       "        }    #T_2f8433ba_5d60_11ea_8914_851643872d04row7_col8 {\n",
       "            background-color:  #bfc9e1;\n",
       "            color:  #000000;\n",
       "        }    #T_2f8433ba_5d60_11ea_8914_851643872d04row8_col0 {\n",
       "            background-color:  #0d75b3;\n",
       "            color:  #f1f1f1;\n",
       "        }    #T_2f8433ba_5d60_11ea_8914_851643872d04row8_col1 {\n",
       "            background-color:  #9cb9d9;\n",
       "            color:  #000000;\n",
       "        }    #T_2f8433ba_5d60_11ea_8914_851643872d04row8_col2 {\n",
       "            background-color:  #f6eff7;\n",
       "            color:  #000000;\n",
       "        }    #T_2f8433ba_5d60_11ea_8914_851643872d04row8_col3 {\n",
       "            background-color:  #d2d2e7;\n",
       "            color:  #000000;\n",
       "        }    #T_2f8433ba_5d60_11ea_8914_851643872d04row8_col4 {\n",
       "            background-color:  #4295c3;\n",
       "            color:  #000000;\n",
       "        }    #T_2f8433ba_5d60_11ea_8914_851643872d04row8_col5 {\n",
       "            background-color:  #5a9ec9;\n",
       "            color:  #000000;\n",
       "        }    #T_2f8433ba_5d60_11ea_8914_851643872d04row8_col6 {\n",
       "            background-color:  #b5c4df;\n",
       "            color:  #000000;\n",
       "        }    #T_2f8433ba_5d60_11ea_8914_851643872d04row8_col7 {\n",
       "            background-color:  #a7bddb;\n",
       "            color:  #000000;\n",
       "        }    #T_2f8433ba_5d60_11ea_8914_851643872d04row8_col8 {\n",
       "            background-color:  #023858;\n",
       "            color:  #f1f1f1;\n",
       "        }</style><table id=\"T_2f8433ba_5d60_11ea_8914_851643872d04\" ><thead>    <tr>        <th class=\"blank level0\" ></th>        <th class=\"col_heading level0 col0\" >lcavol</th>        <th class=\"col_heading level0 col1\" >lweight</th>        <th class=\"col_heading level0 col2\" >age</th>        <th class=\"col_heading level0 col3\" >lbph</th>        <th class=\"col_heading level0 col4\" >svi</th>        <th class=\"col_heading level0 col5\" >lcp</th>        <th class=\"col_heading level0 col6\" >gleason</th>        <th class=\"col_heading level0 col7\" >pgg45</th>        <th class=\"col_heading level0 col8\" >lpsa</th>    </tr></thead><tbody>\n",
       "                <tr>\n",
       "                        <th id=\"T_2f8433ba_5d60_11ea_8914_851643872d04level0_row0\" class=\"row_heading level0 row0\" >lcavol</th>\n",
       "                        <td id=\"T_2f8433ba_5d60_11ea_8914_851643872d04row0_col0\" class=\"data row0 col0\" >1</td>\n",
       "                        <td id=\"T_2f8433ba_5d60_11ea_8914_851643872d04row0_col1\" class=\"data row0 col1\" >0.280521</td>\n",
       "                        <td id=\"T_2f8433ba_5d60_11ea_8914_851643872d04row0_col2\" class=\"data row0 col2\" >0.225</td>\n",
       "                        <td id=\"T_2f8433ba_5d60_11ea_8914_851643872d04row0_col3\" class=\"data row0 col3\" >0.0273497</td>\n",
       "                        <td id=\"T_2f8433ba_5d60_11ea_8914_851643872d04row0_col4\" class=\"data row0 col4\" >0.538845</td>\n",
       "                        <td id=\"T_2f8433ba_5d60_11ea_8914_851643872d04row0_col5\" class=\"data row0 col5\" >0.67531</td>\n",
       "                        <td id=\"T_2f8433ba_5d60_11ea_8914_851643872d04row0_col6\" class=\"data row0 col6\" >0.432417</td>\n",
       "                        <td id=\"T_2f8433ba_5d60_11ea_8914_851643872d04row0_col7\" class=\"data row0 col7\" >0.433652</td>\n",
       "                        <td id=\"T_2f8433ba_5d60_11ea_8914_851643872d04row0_col8\" class=\"data row0 col8\" >0.73446</td>\n",
       "            </tr>\n",
       "            <tr>\n",
       "                        <th id=\"T_2f8433ba_5d60_11ea_8914_851643872d04level0_row1\" class=\"row_heading level0 row1\" >lweight</th>\n",
       "                        <td id=\"T_2f8433ba_5d60_11ea_8914_851643872d04row1_col0\" class=\"data row1 col0\" >0.280521</td>\n",
       "                        <td id=\"T_2f8433ba_5d60_11ea_8914_851643872d04row1_col1\" class=\"data row1 col1\" >1</td>\n",
       "                        <td id=\"T_2f8433ba_5d60_11ea_8914_851643872d04row1_col2\" class=\"data row1 col2\" >0.347969</td>\n",
       "                        <td id=\"T_2f8433ba_5d60_11ea_8914_851643872d04row1_col3\" class=\"data row1 col3\" >0.442264</td>\n",
       "                        <td id=\"T_2f8433ba_5d60_11ea_8914_851643872d04row1_col4\" class=\"data row1 col4\" >0.155385</td>\n",
       "                        <td id=\"T_2f8433ba_5d60_11ea_8914_851643872d04row1_col5\" class=\"data row1 col5\" >0.164537</td>\n",
       "                        <td id=\"T_2f8433ba_5d60_11ea_8914_851643872d04row1_col6\" class=\"data row1 col6\" >0.0568821</td>\n",
       "                        <td id=\"T_2f8433ba_5d60_11ea_8914_851643872d04row1_col7\" class=\"data row1 col7\" >0.107354</td>\n",
       "                        <td id=\"T_2f8433ba_5d60_11ea_8914_851643872d04row1_col8\" class=\"data row1 col8\" >0.433319</td>\n",
       "            </tr>\n",
       "            <tr>\n",
       "                        <th id=\"T_2f8433ba_5d60_11ea_8914_851643872d04level0_row2\" class=\"row_heading level0 row2\" >age</th>\n",
       "                        <td id=\"T_2f8433ba_5d60_11ea_8914_851643872d04row2_col0\" class=\"data row2 col0\" >0.225</td>\n",
       "                        <td id=\"T_2f8433ba_5d60_11ea_8914_851643872d04row2_col1\" class=\"data row2 col1\" >0.347969</td>\n",
       "                        <td id=\"T_2f8433ba_5d60_11ea_8914_851643872d04row2_col2\" class=\"data row2 col2\" >1</td>\n",
       "                        <td id=\"T_2f8433ba_5d60_11ea_8914_851643872d04row2_col3\" class=\"data row2 col3\" >0.350186</td>\n",
       "                        <td id=\"T_2f8433ba_5d60_11ea_8914_851643872d04row2_col4\" class=\"data row2 col4\" >0.117658</td>\n",
       "                        <td id=\"T_2f8433ba_5d60_11ea_8914_851643872d04row2_col5\" class=\"data row2 col5\" >0.127668</td>\n",
       "                        <td id=\"T_2f8433ba_5d60_11ea_8914_851643872d04row2_col6\" class=\"data row2 col6\" >0.268892</td>\n",
       "                        <td id=\"T_2f8433ba_5d60_11ea_8914_851643872d04row2_col7\" class=\"data row2 col7\" >0.276112</td>\n",
       "                        <td id=\"T_2f8433ba_5d60_11ea_8914_851643872d04row2_col8\" class=\"data row2 col8\" >0.169593</td>\n",
       "            </tr>\n",
       "            <tr>\n",
       "                        <th id=\"T_2f8433ba_5d60_11ea_8914_851643872d04level0_row3\" class=\"row_heading level0 row3\" >lbph</th>\n",
       "                        <td id=\"T_2f8433ba_5d60_11ea_8914_851643872d04row3_col0\" class=\"data row3 col0\" >0.0273497</td>\n",
       "                        <td id=\"T_2f8433ba_5d60_11ea_8914_851643872d04row3_col1\" class=\"data row3 col1\" >0.442264</td>\n",
       "                        <td id=\"T_2f8433ba_5d60_11ea_8914_851643872d04row3_col2\" class=\"data row3 col2\" >0.350186</td>\n",
       "                        <td id=\"T_2f8433ba_5d60_11ea_8914_851643872d04row3_col3\" class=\"data row3 col3\" >1</td>\n",
       "                        <td id=\"T_2f8433ba_5d60_11ea_8914_851643872d04row3_col4\" class=\"data row3 col4\" >-0.0858432</td>\n",
       "                        <td id=\"T_2f8433ba_5d60_11ea_8914_851643872d04row3_col5\" class=\"data row3 col5\" >-0.00699943</td>\n",
       "                        <td id=\"T_2f8433ba_5d60_11ea_8914_851643872d04row3_col6\" class=\"data row3 col6\" >0.0778204</td>\n",
       "                        <td id=\"T_2f8433ba_5d60_11ea_8914_851643872d04row3_col7\" class=\"data row3 col7\" >0.07846</td>\n",
       "                        <td id=\"T_2f8433ba_5d60_11ea_8914_851643872d04row3_col8\" class=\"data row3 col8\" >0.179809</td>\n",
       "            </tr>\n",
       "            <tr>\n",
       "                        <th id=\"T_2f8433ba_5d60_11ea_8914_851643872d04level0_row4\" class=\"row_heading level0 row4\" >svi</th>\n",
       "                        <td id=\"T_2f8433ba_5d60_11ea_8914_851643872d04row4_col0\" class=\"data row4 col0\" >0.538845</td>\n",
       "                        <td id=\"T_2f8433ba_5d60_11ea_8914_851643872d04row4_col1\" class=\"data row4 col1\" >0.155385</td>\n",
       "                        <td id=\"T_2f8433ba_5d60_11ea_8914_851643872d04row4_col2\" class=\"data row4 col2\" >0.117658</td>\n",
       "                        <td id=\"T_2f8433ba_5d60_11ea_8914_851643872d04row4_col3\" class=\"data row4 col3\" >-0.0858432</td>\n",
       "                        <td id=\"T_2f8433ba_5d60_11ea_8914_851643872d04row4_col4\" class=\"data row4 col4\" >1</td>\n",
       "                        <td id=\"T_2f8433ba_5d60_11ea_8914_851643872d04row4_col5\" class=\"data row4 col5\" >0.673111</td>\n",
       "                        <td id=\"T_2f8433ba_5d60_11ea_8914_851643872d04row4_col6\" class=\"data row4 col6\" >0.320412</td>\n",
       "                        <td id=\"T_2f8433ba_5d60_11ea_8914_851643872d04row4_col7\" class=\"data row4 col7\" >0.457648</td>\n",
       "                        <td id=\"T_2f8433ba_5d60_11ea_8914_851643872d04row4_col8\" class=\"data row4 col8\" >0.566218</td>\n",
       "            </tr>\n",
       "            <tr>\n",
       "                        <th id=\"T_2f8433ba_5d60_11ea_8914_851643872d04level0_row5\" class=\"row_heading level0 row5\" >lcp</th>\n",
       "                        <td id=\"T_2f8433ba_5d60_11ea_8914_851643872d04row5_col0\" class=\"data row5 col0\" >0.67531</td>\n",
       "                        <td id=\"T_2f8433ba_5d60_11ea_8914_851643872d04row5_col1\" class=\"data row5 col1\" >0.164537</td>\n",
       "                        <td id=\"T_2f8433ba_5d60_11ea_8914_851643872d04row5_col2\" class=\"data row5 col2\" >0.127668</td>\n",
       "                        <td id=\"T_2f8433ba_5d60_11ea_8914_851643872d04row5_col3\" class=\"data row5 col3\" >-0.00699943</td>\n",
       "                        <td id=\"T_2f8433ba_5d60_11ea_8914_851643872d04row5_col4\" class=\"data row5 col4\" >0.673111</td>\n",
       "                        <td id=\"T_2f8433ba_5d60_11ea_8914_851643872d04row5_col5\" class=\"data row5 col5\" >1</td>\n",
       "                        <td id=\"T_2f8433ba_5d60_11ea_8914_851643872d04row5_col6\" class=\"data row5 col6\" >0.51483</td>\n",
       "                        <td id=\"T_2f8433ba_5d60_11ea_8914_851643872d04row5_col7\" class=\"data row5 col7\" >0.631528</td>\n",
       "                        <td id=\"T_2f8433ba_5d60_11ea_8914_851643872d04row5_col8\" class=\"data row5 col8\" >0.548813</td>\n",
       "            </tr>\n",
       "            <tr>\n",
       "                        <th id=\"T_2f8433ba_5d60_11ea_8914_851643872d04level0_row6\" class=\"row_heading level0 row6\" >gleason</th>\n",
       "                        <td id=\"T_2f8433ba_5d60_11ea_8914_851643872d04row6_col0\" class=\"data row6 col0\" >0.432417</td>\n",
       "                        <td id=\"T_2f8433ba_5d60_11ea_8914_851643872d04row6_col1\" class=\"data row6 col1\" >0.0568821</td>\n",
       "                        <td id=\"T_2f8433ba_5d60_11ea_8914_851643872d04row6_col2\" class=\"data row6 col2\" >0.268892</td>\n",
       "                        <td id=\"T_2f8433ba_5d60_11ea_8914_851643872d04row6_col3\" class=\"data row6 col3\" >0.0778204</td>\n",
       "                        <td id=\"T_2f8433ba_5d60_11ea_8914_851643872d04row6_col4\" class=\"data row6 col4\" >0.320412</td>\n",
       "                        <td id=\"T_2f8433ba_5d60_11ea_8914_851643872d04row6_col5\" class=\"data row6 col5\" >0.51483</td>\n",
       "                        <td id=\"T_2f8433ba_5d60_11ea_8914_851643872d04row6_col6\" class=\"data row6 col6\" >1</td>\n",
       "                        <td id=\"T_2f8433ba_5d60_11ea_8914_851643872d04row6_col7\" class=\"data row6 col7\" >0.751905</td>\n",
       "                        <td id=\"T_2f8433ba_5d60_11ea_8914_851643872d04row6_col8\" class=\"data row6 col8\" >0.368987</td>\n",
       "            </tr>\n",
       "            <tr>\n",
       "                        <th id=\"T_2f8433ba_5d60_11ea_8914_851643872d04level0_row7\" class=\"row_heading level0 row7\" >pgg45</th>\n",
       "                        <td id=\"T_2f8433ba_5d60_11ea_8914_851643872d04row7_col0\" class=\"data row7 col0\" >0.433652</td>\n",
       "                        <td id=\"T_2f8433ba_5d60_11ea_8914_851643872d04row7_col1\" class=\"data row7 col1\" >0.107354</td>\n",
       "                        <td id=\"T_2f8433ba_5d60_11ea_8914_851643872d04row7_col2\" class=\"data row7 col2\" >0.276112</td>\n",
       "                        <td id=\"T_2f8433ba_5d60_11ea_8914_851643872d04row7_col3\" class=\"data row7 col3\" >0.07846</td>\n",
       "                        <td id=\"T_2f8433ba_5d60_11ea_8914_851643872d04row7_col4\" class=\"data row7 col4\" >0.457648</td>\n",
       "                        <td id=\"T_2f8433ba_5d60_11ea_8914_851643872d04row7_col5\" class=\"data row7 col5\" >0.631528</td>\n",
       "                        <td id=\"T_2f8433ba_5d60_11ea_8914_851643872d04row7_col6\" class=\"data row7 col6\" >0.751905</td>\n",
       "                        <td id=\"T_2f8433ba_5d60_11ea_8914_851643872d04row7_col7\" class=\"data row7 col7\" >1</td>\n",
       "                        <td id=\"T_2f8433ba_5d60_11ea_8914_851643872d04row7_col8\" class=\"data row7 col8\" >0.422316</td>\n",
       "            </tr>\n",
       "            <tr>\n",
       "                        <th id=\"T_2f8433ba_5d60_11ea_8914_851643872d04level0_row8\" class=\"row_heading level0 row8\" >lpsa</th>\n",
       "                        <td id=\"T_2f8433ba_5d60_11ea_8914_851643872d04row8_col0\" class=\"data row8 col0\" >0.73446</td>\n",
       "                        <td id=\"T_2f8433ba_5d60_11ea_8914_851643872d04row8_col1\" class=\"data row8 col1\" >0.433319</td>\n",
       "                        <td id=\"T_2f8433ba_5d60_11ea_8914_851643872d04row8_col2\" class=\"data row8 col2\" >0.169593</td>\n",
       "                        <td id=\"T_2f8433ba_5d60_11ea_8914_851643872d04row8_col3\" class=\"data row8 col3\" >0.179809</td>\n",
       "                        <td id=\"T_2f8433ba_5d60_11ea_8914_851643872d04row8_col4\" class=\"data row8 col4\" >0.566218</td>\n",
       "                        <td id=\"T_2f8433ba_5d60_11ea_8914_851643872d04row8_col5\" class=\"data row8 col5\" >0.548813</td>\n",
       "                        <td id=\"T_2f8433ba_5d60_11ea_8914_851643872d04row8_col6\" class=\"data row8 col6\" >0.368987</td>\n",
       "                        <td id=\"T_2f8433ba_5d60_11ea_8914_851643872d04row8_col7\" class=\"data row8 col7\" >0.422316</td>\n",
       "                        <td id=\"T_2f8433ba_5d60_11ea_8914_851643872d04row8_col8\" class=\"data row8 col8\" >1</td>\n",
       "            </tr>\n",
       "    </tbody></table>"
      ],
      "text/plain": [
       "<pandas.io.formats.style.Styler at 0x7facf88f6f50>"
      ]
     },
     "execution_count": 49,
     "metadata": {},
     "output_type": "execute_result"
    }
   ],
   "source": [
    "corr = df.corr()\n",
    "corr.style.background_gradient()"
   ]
  },
  {
   "cell_type": "markdown",
   "metadata": {},
   "source": [
    "Looking at the lpsa column or row, one sees that the correlations agree what our expectations, except perhaps in the case of pgg45, which is more strongly correlated with the response lpsa than expected.\n",
    "This gives us an idea of what to expect in terms of the dependence of lpsa on the predictors, but we'll conduct the analysis in a controlled manner using Z-scores later in this project."
   ]
  },
  {
   "cell_type": "markdown",
   "metadata": {},
   "source": [
    "## Standardization of the variables"
   ]
  },
  {
   "cell_type": "markdown",
   "metadata": {},
   "source": [
    "We now standardize the predictors, so that we will end up with $\\mu = 0$ and $\\sigma = 1$ for every variable (up to computational errors)."
   ]
  },
  {
   "cell_type": "code",
   "execution_count": 50,
   "metadata": {},
   "outputs": [
    {
     "data": {
      "text/html": [
       "<div>\n",
       "<style scoped>\n",
       "    .dataframe tbody tr th:only-of-type {\n",
       "        vertical-align: middle;\n",
       "    }\n",
       "\n",
       "    .dataframe tbody tr th {\n",
       "        vertical-align: top;\n",
       "    }\n",
       "\n",
       "    .dataframe thead th {\n",
       "        text-align: right;\n",
       "    }\n",
       "</style>\n",
       "<table border=\"1\" class=\"dataframe\">\n",
       "  <thead>\n",
       "    <tr style=\"text-align: right;\">\n",
       "      <th></th>\n",
       "      <th>lcavol</th>\n",
       "      <th>lweight</th>\n",
       "      <th>age</th>\n",
       "      <th>lbph</th>\n",
       "      <th>svi</th>\n",
       "      <th>lcp</th>\n",
       "      <th>gleason</th>\n",
       "      <th>pgg45</th>\n",
       "      <th>lpsa</th>\n",
       "    </tr>\n",
       "  </thead>\n",
       "  <tbody>\n",
       "    <tr>\n",
       "      <td>mean</td>\n",
       "      <td>1.350010</td>\n",
       "      <td>3.628943</td>\n",
       "      <td>63.865979</td>\n",
       "      <td>0.100356</td>\n",
       "      <td>0.216495</td>\n",
       "      <td>-0.179366</td>\n",
       "      <td>6.752577</td>\n",
       "      <td>24.381443</td>\n",
       "      <td>2.478387</td>\n",
       "    </tr>\n",
       "    <tr>\n",
       "      <td>std</td>\n",
       "      <td>1.178625</td>\n",
       "      <td>0.428411</td>\n",
       "      <td>7.445117</td>\n",
       "      <td>1.450807</td>\n",
       "      <td>0.413995</td>\n",
       "      <td>1.398250</td>\n",
       "      <td>0.722134</td>\n",
       "      <td>28.204035</td>\n",
       "      <td>1.154329</td>\n",
       "    </tr>\n",
       "  </tbody>\n",
       "</table>\n",
       "</div>"
      ],
      "text/plain": [
       "        lcavol   lweight        age      lbph       svi       lcp   gleason  \\\n",
       "mean  1.350010  3.628943  63.865979  0.100356  0.216495 -0.179366  6.752577   \n",
       "std   1.178625  0.428411   7.445117  1.450807  0.413995  1.398250  0.722134   \n",
       "\n",
       "          pgg45      lpsa  \n",
       "mean  24.381443  2.478387  \n",
       "std   28.204035  1.154329  "
      ]
     },
     "execution_count": 50,
     "metadata": {},
     "output_type": "execute_result"
    }
   ],
   "source": [
    "#Means and standard deviations before standardization.\n",
    "df.describe().loc[['mean', 'std']]"
   ]
  },
  {
   "cell_type": "code",
   "execution_count": 51,
   "metadata": {},
   "outputs": [
    {
     "data": {
      "text/html": [
       "<div>\n",
       "<style scoped>\n",
       "    .dataframe tbody tr th:only-of-type {\n",
       "        vertical-align: middle;\n",
       "    }\n",
       "\n",
       "    .dataframe tbody tr th {\n",
       "        vertical-align: top;\n",
       "    }\n",
       "\n",
       "    .dataframe thead th {\n",
       "        text-align: right;\n",
       "    }\n",
       "</style>\n",
       "<table border=\"1\" class=\"dataframe\">\n",
       "  <thead>\n",
       "    <tr style=\"text-align: right;\">\n",
       "      <th></th>\n",
       "      <th>lcavol</th>\n",
       "      <th>lweight</th>\n",
       "      <th>age</th>\n",
       "      <th>lbph</th>\n",
       "      <th>svi</th>\n",
       "      <th>lcp</th>\n",
       "      <th>gleason</th>\n",
       "      <th>pgg45</th>\n",
       "      <th>lpsa</th>\n",
       "    </tr>\n",
       "  </thead>\n",
       "  <tbody>\n",
       "    <tr>\n",
       "      <td>mean</td>\n",
       "      <td>-9.614302e-17</td>\n",
       "      <td>-3.216213e-16</td>\n",
       "      <td>3.433679e-16</td>\n",
       "      <td>-4.721309e-17</td>\n",
       "      <td>-1.327689e-16</td>\n",
       "      <td>8.240831e-17</td>\n",
       "      <td>-1.476482e-16</td>\n",
       "      <td>-1.816989e-16</td>\n",
       "      <td>2.478387</td>\n",
       "    </tr>\n",
       "    <tr>\n",
       "      <td>std</td>\n",
       "      <td>1.005195e+00</td>\n",
       "      <td>1.005195e+00</td>\n",
       "      <td>1.005195e+00</td>\n",
       "      <td>1.005195e+00</td>\n",
       "      <td>1.005195e+00</td>\n",
       "      <td>1.005195e+00</td>\n",
       "      <td>1.005195e+00</td>\n",
       "      <td>1.005195e+00</td>\n",
       "      <td>1.154329</td>\n",
       "    </tr>\n",
       "  </tbody>\n",
       "</table>\n",
       "</div>"
      ],
      "text/plain": [
       "            lcavol       lweight           age          lbph           svi  \\\n",
       "mean -9.614302e-17 -3.216213e-16  3.433679e-16 -4.721309e-17 -1.327689e-16   \n",
       "std   1.005195e+00  1.005195e+00  1.005195e+00  1.005195e+00  1.005195e+00   \n",
       "\n",
       "               lcp       gleason         pgg45      lpsa  \n",
       "mean  8.240831e-17 -1.476482e-16 -1.816989e-16  2.478387  \n",
       "std   1.005195e+00  1.005195e+00  1.005195e+00  1.154329  "
      ]
     },
     "execution_count": 51,
     "metadata": {},
     "output_type": "execute_result"
    }
   ],
   "source": [
    "scaler = StandardScaler()\n",
    "#If we simply applied the scaler to our dataframe df we would lose the column labels.\n",
    "#So instead we loop over the columns:\n",
    "iterator = pd.DataFrame(df.iloc[:,:-1]).items() #Will not change the response, only the predictors.\n",
    "for column,_ in iterator:\n",
    "    column_data = pd.DataFrame(df[column]) #Create dataframe with a single column.\n",
    "    new_column_array = scaler.fit_transform(column_data) #The scaler transforms the column.\n",
    "    df[column] = pd.DataFrame(new_column_array) #Update column.\n",
    "#Means and standard deviations after standardization.\n",
    "df.describe().loc[['mean', 'std']]"
   ]
  },
  {
   "cell_type": "markdown",
   "metadata": {},
   "source": [
    "## A first model"
   ]
  },
  {
   "cell_type": "markdown",
   "metadata": {},
   "source": [
    "Let's build a first linear model with all the predictors."
   ]
  },
  {
   "cell_type": "markdown",
   "metadata": {},
   "source": [
    "We will split the data using the mask from the original table."
   ]
  },
  {
   "cell_type": "code",
   "execution_count": 10,
   "metadata": {},
   "outputs": [
    {
     "data": {
      "text/plain": [
       "92    T\n",
       "93    T\n",
       "94    F\n",
       "95    T\n",
       "96    F\n",
       "Name: train, dtype: object"
      ]
     },
     "execution_count": 10,
     "metadata": {},
     "output_type": "execute_result"
    }
   ],
   "source": [
    "mask_origin = df_original['train']\n",
    "mask_origin.tail()"
   ]
  },
  {
   "cell_type": "code",
   "execution_count": 11,
   "metadata": {},
   "outputs": [
    {
     "data": {
      "text/plain": [
       "92     True\n",
       "93     True\n",
       "94    False\n",
       "95     True\n",
       "96    False\n",
       "Name: train, dtype: bool"
      ]
     },
     "execution_count": 11,
     "metadata": {},
     "output_type": "execute_result"
    }
   ],
   "source": [
    "mask = mask_origin == 'T'\n",
    "mask.tail()"
   ]
  },
  {
   "cell_type": "code",
   "execution_count": 12,
   "metadata": {},
   "outputs": [
    {
     "data": {
      "text/html": [
       "<div>\n",
       "<style scoped>\n",
       "    .dataframe tbody tr th:only-of-type {\n",
       "        vertical-align: middle;\n",
       "    }\n",
       "\n",
       "    .dataframe tbody tr th {\n",
       "        vertical-align: top;\n",
       "    }\n",
       "\n",
       "    .dataframe thead th {\n",
       "        text-align: right;\n",
       "    }\n",
       "</style>\n",
       "<table border=\"1\" class=\"dataframe\">\n",
       "  <thead>\n",
       "    <tr style=\"text-align: right;\">\n",
       "      <th></th>\n",
       "      <th>lcavol</th>\n",
       "      <th>lweight</th>\n",
       "      <th>age</th>\n",
       "      <th>lbph</th>\n",
       "      <th>svi</th>\n",
       "      <th>lcp</th>\n",
       "      <th>gleason</th>\n",
       "      <th>pgg45</th>\n",
       "      <th>lpsa</th>\n",
       "    </tr>\n",
       "  </thead>\n",
       "  <tbody>\n",
       "    <tr>\n",
       "      <td>90</td>\n",
       "      <td>1.617422</td>\n",
       "      <td>1.109520</td>\n",
       "      <td>0.558151</td>\n",
       "      <td>-1.030029</td>\n",
       "      <td>-0.525657</td>\n",
       "      <td>-0.867655</td>\n",
       "      <td>-1.047571</td>\n",
       "      <td>-0.868957</td>\n",
       "      <td>4.029806</td>\n",
       "    </tr>\n",
       "    <tr>\n",
       "      <td>91</td>\n",
       "      <td>1.008835</td>\n",
       "      <td>0.114086</td>\n",
       "      <td>-0.386947</td>\n",
       "      <td>0.864484</td>\n",
       "      <td>1.902379</td>\n",
       "      <td>-0.867655</td>\n",
       "      <td>0.344407</td>\n",
       "      <td>-0.334356</td>\n",
       "      <td>4.129551</td>\n",
       "    </tr>\n",
       "    <tr>\n",
       "      <td>92</td>\n",
       "      <td>1.262444</td>\n",
       "      <td>0.580608</td>\n",
       "      <td>0.558151</td>\n",
       "      <td>-1.030029</td>\n",
       "      <td>1.902379</td>\n",
       "      <td>1.079149</td>\n",
       "      <td>0.344407</td>\n",
       "      <td>1.269449</td>\n",
       "      <td>4.385147</td>\n",
       "    </tr>\n",
       "    <tr>\n",
       "      <td>93</td>\n",
       "      <td>2.107397</td>\n",
       "      <td>0.628738</td>\n",
       "      <td>-2.682185</td>\n",
       "      <td>-1.030029</td>\n",
       "      <td>1.902379</td>\n",
       "      <td>1.688267</td>\n",
       "      <td>0.344407</td>\n",
       "      <td>0.556647</td>\n",
       "      <td>4.684443</td>\n",
       "    </tr>\n",
       "    <tr>\n",
       "      <td>95</td>\n",
       "      <td>1.307045</td>\n",
       "      <td>0.340141</td>\n",
       "      <td>0.558151</td>\n",
       "      <td>1.010033</td>\n",
       "      <td>1.902379</td>\n",
       "      <td>1.249088</td>\n",
       "      <td>0.344407</td>\n",
       "      <td>1.982251</td>\n",
       "      <td>5.477509</td>\n",
       "    </tr>\n",
       "  </tbody>\n",
       "</table>\n",
       "</div>"
      ],
      "text/plain": [
       "      lcavol   lweight       age      lbph       svi       lcp   gleason  \\\n",
       "90  1.617422  1.109520  0.558151 -1.030029 -0.525657 -0.867655 -1.047571   \n",
       "91  1.008835  0.114086 -0.386947  0.864484  1.902379 -0.867655  0.344407   \n",
       "92  1.262444  0.580608  0.558151 -1.030029  1.902379  1.079149  0.344407   \n",
       "93  2.107397  0.628738 -2.682185 -1.030029  1.902379  1.688267  0.344407   \n",
       "95  1.307045  0.340141  0.558151  1.010033  1.902379  1.249088  0.344407   \n",
       "\n",
       "       pgg45      lpsa  \n",
       "90 -0.868957  4.029806  \n",
       "91 -0.334356  4.129551  \n",
       "92  1.269449  4.385147  \n",
       "93  0.556647  4.684443  \n",
       "95  1.982251  5.477509  "
      ]
     },
     "execution_count": 12,
     "metadata": {},
     "output_type": "execute_result"
    }
   ],
   "source": [
    "df[mask].tail()"
   ]
  },
  {
   "cell_type": "code",
   "execution_count": 13,
   "metadata": {},
   "outputs": [],
   "source": [
    "train_df_from_source = df[mask]\n",
    "test_df_from_source = df[~mask]"
   ]
  },
  {
   "cell_type": "markdown",
   "metadata": {},
   "source": [
    "One can at last build the model (using least-squares estimation).\n",
    "The LinearRegression class from sklearn does just that:"
   ]
  },
  {
   "cell_type": "code",
   "execution_count": 14,
   "metadata": {},
   "outputs": [
    {
     "name": "stdout",
     "output_type": "stream",
     "text": [
      "    Ordinary least squares Linear Regression\n"
     ]
    }
   ],
   "source": [
    "print(LinearRegression.__doc__[1:45])"
   ]
  },
  {
   "cell_type": "code",
   "execution_count": 15,
   "metadata": {},
   "outputs": [
    {
     "name": "stdout",
     "output_type": "stream",
     "text": [
      " intercept: 2.464932922123745 \n",
      " coeficients: \n"
     ]
    },
    {
     "data": {
      "text/html": [
       "<div>\n",
       "<style scoped>\n",
       "    .dataframe tbody tr th:only-of-type {\n",
       "        vertical-align: middle;\n",
       "    }\n",
       "\n",
       "    .dataframe tbody tr th {\n",
       "        vertical-align: top;\n",
       "    }\n",
       "\n",
       "    .dataframe thead th {\n",
       "        text-align: right;\n",
       "    }\n",
       "</style>\n",
       "<table border=\"1\" class=\"dataframe\">\n",
       "  <thead>\n",
       "    <tr style=\"text-align: right;\">\n",
       "      <th></th>\n",
       "      <th>lcavol</th>\n",
       "      <th>lweight</th>\n",
       "      <th>age</th>\n",
       "      <th>lbph</th>\n",
       "      <th>svi</th>\n",
       "      <th>lcp</th>\n",
       "      <th>gleason</th>\n",
       "      <th>pgg45</th>\n",
       "    </tr>\n",
       "  </thead>\n",
       "  <tbody>\n",
       "    <tr>\n",
       "      <td>coeficients</td>\n",
       "      <td>0.676016</td>\n",
       "      <td>0.261694</td>\n",
       "      <td>-0.140734</td>\n",
       "      <td>0.209061</td>\n",
       "      <td>0.303623</td>\n",
       "      <td>-0.287002</td>\n",
       "      <td>-0.021195</td>\n",
       "      <td>0.265576</td>\n",
       "    </tr>\n",
       "  </tbody>\n",
       "</table>\n",
       "</div>"
      ],
      "text/plain": [
       "               lcavol   lweight       age      lbph       svi       lcp  \\\n",
       "coeficients  0.676016  0.261694 -0.140734  0.209061  0.303623 -0.287002   \n",
       "\n",
       "              gleason     pgg45  \n",
       "coeficients -0.021195  0.265576  "
      ]
     },
     "execution_count": 15,
     "metadata": {},
     "output_type": "execute_result"
    }
   ],
   "source": [
    "X_train = train_df_from_source.iloc[:,0:-1] #The last column contains the response lpsa.\n",
    "y_train = train_df_from_source.iloc[:,-1]\n",
    "regression = LinearRegression().fit(X = X_train, y = y_train)\n",
    "print(' intercept: {} \\n coeficients: '.format(regression.intercept_))\n",
    "coefs_df = pd.DataFrame(data=np.array([regression.coef_]), columns=X_train.columns, index=['coeficients'])\n",
    "coefs_df"
   ]
  },
  {
   "cell_type": "markdown",
   "metadata": {},
   "source": [
    "We can also fit the data using the `statsmodels` module, which immediately gives us a bit more information - and in particular the F-statistics - but is less pleasant to use than `sklearn`."
   ]
  },
  {
   "cell_type": "code",
   "execution_count": 16,
   "metadata": {},
   "outputs": [
    {
     "name": "stdout",
     "output_type": "stream",
     "text": [
      "                            OLS Regression Results                            \n",
      "==============================================================================\n",
      "Dep. Variable:                   lpsa   R-squared:                       0.694\n",
      "Model:                            OLS   Adj. R-squared:                  0.652\n",
      "Method:                 Least Squares   F-statistic:                     16.47\n",
      "Date:                Tue, 03 Mar 2020   Prob (F-statistic):           2.04e-12\n",
      "Time:                        15:35:52   Log-Likelihood:                -67.505\n",
      "No. Observations:                  67   AIC:                             153.0\n",
      "Df Residuals:                      58   BIC:                             172.9\n",
      "Df Model:                           8                                         \n",
      "Covariance Type:            nonrobust                                         \n",
      "==============================================================================\n",
      "                 coef    std err          t      P>|t|      [0.025      0.975]\n",
      "------------------------------------------------------------------------------\n",
      "const          2.4649      0.089     27.598      0.000       2.286       2.644\n",
      "lcavol         0.6760      0.126      5.366      0.000       0.424       0.928\n",
      "lweight        0.2617      0.095      2.751      0.008       0.071       0.452\n",
      "age           -0.1407      0.101     -1.396      0.168      -0.343       0.061\n",
      "lbph           0.2091      0.102      2.056      0.044       0.006       0.413\n",
      "svi            0.3036      0.123      2.469      0.017       0.057       0.550\n",
      "lcp           -0.2870      0.154     -1.867      0.067      -0.595       0.021\n",
      "gleason       -0.0212      0.144     -0.147      0.884      -0.310       0.268\n",
      "pgg45          0.2656      0.153      1.738      0.088      -0.040       0.571\n",
      "==============================================================================\n",
      "Omnibus:                        0.825   Durbin-Watson:                   1.690\n",
      "Prob(Omnibus):                  0.662   Jarque-Bera (JB):                0.389\n",
      "Skew:                          -0.164   Prob(JB):                        0.823\n",
      "Kurtosis:                       3.178   Cond. No.                         4.47\n",
      "==============================================================================\n",
      "\n",
      "Warnings:\n",
      "[1] Standard Errors assume that the covariance matrix of the errors is correctly specified.\n"
     ]
    },
    {
     "name": "stderr",
     "output_type": "stream",
     "text": [
      "/home/simoes/anaconda3/lib/python3.7/site-packages/numpy/core/fromnumeric.py:2495: FutureWarning: Method .ptp is deprecated and will be removed in a future version. Use numpy.ptp instead.\n",
      "  return ptp(axis=axis, out=out, **kwargs)\n"
     ]
    }
   ],
   "source": [
    "X_train_sm = sm.add_constant(X_train, prepend=True)\n",
    "model = sm.OLS(y_train, X_train_sm)\n",
    "results = model.fit()\n",
    "print(results.summary())"
   ]
  },
  {
   "cell_type": "markdown",
   "metadata": {},
   "source": [
    "Notice that the value of the F-statistic is large (and the corresponding p-value is very small), and we can thus safely reject the null hypothesis *i.e.* we can conclude that at least one of our predictors is significant.  \n",
    "The t-scores above (which we will call Z-scores below, following the literature) will be used to decide what predictors we can drop. More on this below."
   ]
  },
  {
   "cell_type": "markdown",
   "metadata": {},
   "source": [
    "## Confidence intervals"
   ]
  },
  {
   "cell_type": "markdown",
   "metadata": {},
   "source": [
    "I'll define my own function for estimating the variance of the coefficients according to the theory in [Hastie]."
   ]
  },
  {
   "cell_type": "code",
   "execution_count": 17,
   "metadata": {},
   "outputs": [],
   "source": [
    "def coef_variance_estimate(X_train, y_true, y_pred):\n",
    "    '''\n",
    "    Estimates the variance of the coeficients of the model.\n",
    "    The data is encoded in X_train and y_true:\n",
    "        X_train is a (numpy) array (N, p + 1), where p is the number of predictors.\n",
    "        y_true is a vector of length N.\n",
    "    y_pred ia vector of length N, and is the prediction of the model on X.\n",
    "    '''\n",
    "    N = len(y_true)\n",
    "    p = X_train.shape[1] - 1\n",
    "    variance_y_est = (1/(N-p-1)) * np.sum(np.square(y_true - y_pred)) # Estimative of the variance of y.\n",
    "    diag = np.diag(np.linalg.inv(np.matmul(np.transpose(X_train),X_train))) # Diagonal of (X^t X)^{-1}.\n",
    "    return variance_y_est * diag"
   ]
  },
  {
   "cell_type": "code",
   "execution_count": 18,
   "metadata": {},
   "outputs": [
    {
     "data": {
      "text/html": [
       "<div>\n",
       "<style scoped>\n",
       "    .dataframe tbody tr th:only-of-type {\n",
       "        vertical-align: middle;\n",
       "    }\n",
       "\n",
       "    .dataframe tbody tr th {\n",
       "        vertical-align: top;\n",
       "    }\n",
       "\n",
       "    .dataframe thead th {\n",
       "        text-align: right;\n",
       "    }\n",
       "</style>\n",
       "<table border=\"1\" class=\"dataframe\">\n",
       "  <thead>\n",
       "    <tr style=\"text-align: right;\">\n",
       "      <th></th>\n",
       "      <th>Intercept</th>\n",
       "      <th>lcavol</th>\n",
       "      <th>lweight</th>\n",
       "      <th>age</th>\n",
       "      <th>lbph</th>\n",
       "      <th>svi</th>\n",
       "      <th>lcp</th>\n",
       "      <th>gleason</th>\n",
       "      <th>pgg45</th>\n",
       "    </tr>\n",
       "  </thead>\n",
       "  <tbody>\n",
       "    <tr>\n",
       "      <td>coefficient std_dev</td>\n",
       "      <td>0.089315</td>\n",
       "      <td>0.125975</td>\n",
       "      <td>0.095134</td>\n",
       "      <td>0.100819</td>\n",
       "      <td>0.101691</td>\n",
       "      <td>0.122962</td>\n",
       "      <td>0.153731</td>\n",
       "      <td>0.144497</td>\n",
       "      <td>0.15282</td>\n",
       "    </tr>\n",
       "  </tbody>\n",
       "</table>\n",
       "</div>"
      ],
      "text/plain": [
       "                     Intercept    lcavol   lweight       age      lbph  \\\n",
       "coefficient std_dev   0.089315  0.125975  0.095134  0.100819  0.101691   \n",
       "\n",
       "                          svi       lcp   gleason    pgg45  \n",
       "coefficient std_dev  0.122962  0.153731  0.144497  0.15282  "
      ]
     },
     "execution_count": 18,
     "metadata": {},
     "output_type": "execute_result"
    }
   ],
   "source": [
    "#Define these again for practicality\n",
    "X_train = train_df_from_source.iloc[:,0:-1] #The last column contains the response lpsa.\n",
    "y_train = train_df_from_source.iloc[:,-1]\n",
    "y_pred = regression.predict(X_train)\n",
    "\n",
    "#prepare X\n",
    "column_of_ones = np.ones((X_train.shape[0],1))\n",
    "X = np.concatenate([column_of_ones, X_train], axis = 1)\n",
    "\n",
    "#Standard deviations\n",
    "columns = ['Intercept'] + X_train.columns.to_list()\n",
    "std_devs = np.sqrt(np.array([coef_variance_estimate(X, y_train.to_numpy(), y_pred)]))\n",
    "std_devs_df = pd.DataFrame(data=std_devs, columns=columns, index=['coefficient std_dev'] )\n",
    "std_devs_df"
   ]
  },
  {
   "cell_type": "markdown",
   "metadata": {},
   "source": [
    "The $95\\%$ confidence intervals are simply given by $\\beta_i \\pm 2\\sigma_{\\beta_i}$."
   ]
  },
  {
   "cell_type": "markdown",
   "metadata": {},
   "source": [
    "## Z-scores"
   ]
  },
  {
   "cell_type": "markdown",
   "metadata": {},
   "source": [
    "I'll define my own Z-score function according to the theory in [Hastie]."
   ]
  },
  {
   "cell_type": "code",
   "execution_count": 19,
   "metadata": {},
   "outputs": [],
   "source": [
    "#We could use the function coefcoef_variance_estimate above when defining the Z_score, but we won't so that this function stands by itself and can be easily copied.\n",
    "def Z_score(X_train, y_true, y_pred, beta_hat):\n",
    "    '''\n",
    "    Returns the Z-scores of the model with coefficients beta_hat.\n",
    "    The data is encoded in X_train and y_true:\n",
    "        X_train is a (numpy) array (N, p + 1), where p is the number of predictors.\n",
    "        y_true is a vector of length N.\n",
    "    y_pred ia vector of length N, and is the prediction of the model on X.\n",
    "    '''\n",
    "    N = len(y_true)\n",
    "    p = X_train.shape[1] - 1\n",
    "    variance_y_est = (1/(N-p-1)) * np.sum(np.square(y_true - y_pred)) # Estimative of the variance of y.\n",
    "    diag = np.diag(np.linalg.inv(np.matmul(np.transpose(X_train),X_train))) # Diagonal of (X^t X)^{-1}.\n",
    "    Z = (1/np.sqrt(variance_y_est)) * np.multiply(beta_hat, np.sqrt(1/diag))\n",
    "    return Z"
   ]
  },
  {
   "cell_type": "code",
   "execution_count": 20,
   "metadata": {},
   "outputs": [
    {
     "data": {
      "text/html": [
       "<div>\n",
       "<style scoped>\n",
       "    .dataframe tbody tr th:only-of-type {\n",
       "        vertical-align: middle;\n",
       "    }\n",
       "\n",
       "    .dataframe tbody tr th {\n",
       "        vertical-align: top;\n",
       "    }\n",
       "\n",
       "    .dataframe thead th {\n",
       "        text-align: right;\n",
       "    }\n",
       "</style>\n",
       "<table border=\"1\" class=\"dataframe\">\n",
       "  <thead>\n",
       "    <tr style=\"text-align: right;\">\n",
       "      <th></th>\n",
       "      <th>Intercept</th>\n",
       "      <th>lcavol</th>\n",
       "      <th>lweight</th>\n",
       "      <th>age</th>\n",
       "      <th>lbph</th>\n",
       "      <th>svi</th>\n",
       "      <th>lcp</th>\n",
       "      <th>gleason</th>\n",
       "      <th>pgg45</th>\n",
       "    </tr>\n",
       "  </thead>\n",
       "  <tbody>\n",
       "    <tr>\n",
       "      <td>Z-score</td>\n",
       "      <td>27.598203</td>\n",
       "      <td>5.36629</td>\n",
       "      <td>2.750789</td>\n",
       "      <td>-1.395909</td>\n",
       "      <td>2.055846</td>\n",
       "      <td>2.469255</td>\n",
       "      <td>-1.866913</td>\n",
       "      <td>-0.146681</td>\n",
       "      <td>1.73784</td>\n",
       "    </tr>\n",
       "  </tbody>\n",
       "</table>\n",
       "</div>"
      ],
      "text/plain": [
       "         Intercept   lcavol   lweight       age      lbph       svi       lcp  \\\n",
       "Z-score  27.598203  5.36629  2.750789 -1.395909  2.055846  2.469255 -1.866913   \n",
       "\n",
       "          gleason    pgg45  \n",
       "Z-score -0.146681  1.73784  "
      ]
     },
     "execution_count": 20,
     "metadata": {},
     "output_type": "execute_result"
    }
   ],
   "source": [
    "#Define these again for practicality\n",
    "X_train = train_df_from_source.iloc[:,0:-1] #The last column contains the response lpsa.\n",
    "y_train = train_df_from_source.iloc[:,-1]\n",
    "y_pred = regression.predict(X_train)\n",
    "\n",
    "#prepare beta\n",
    "beta_hat = regression.coef_\n",
    "beta_hat = np.concatenate([np.array([regression.intercept_]), beta_hat])\n",
    "\n",
    "#prepare X\n",
    "column_of_ones = np.ones((X_train.shape[0],1))\n",
    "X = np.concatenate([column_of_ones, X_train], axis = 1)\n",
    "\n",
    "#Z-scores \n",
    "columns = ['Intercept'] + X_train.columns.to_list()\n",
    "Zscores = np.array([Z_score(X, y_train.to_numpy(), y_pred, beta_hat)])\n",
    "Zscores_df = pd.DataFrame(data=Zscores, columns=columns, index=['Z-score'] )\n",
    "Zscores_df"
   ]
  },
  {
   "cell_type": "markdown",
   "metadata": {},
   "source": [
    "## Visualization"
   ]
  },
  {
   "cell_type": "markdown",
   "metadata": {},
   "source": [
    "Let's see how the linear dependence looks like in the variable with the highest |Z-score|.\n",
    "For that we set all other predictors to zero (and just write $x:=$lcavol)."
   ]
  },
  {
   "cell_type": "code",
   "execution_count": 71,
   "metadata": {},
   "outputs": [
    {
     "data": {
      "image/png": "[encoded data removed]",
      "text/plain": [
       "<Figure size 1080x720 with 1 Axes>"
      ]
     },
     "metadata": {
      "needs_background": "light"
     },
     "output_type": "display_data"
    }
   ],
   "source": [
    "df_original.plot(x='lcavol', y='lpsa', kind='scatter', figsize=(15,10))\n",
    "plt.title('Most significant predictor')\n",
    "x = np.linspace(-2, 4)\n",
    "slope = coefs_df['lcavol'].to_numpy()\n",
    "intercept = regression.intercept_\n",
    "y = intercept + slope*x\n",
    "y_lower_bound = intercept-std_devs_df.loc['coefficient std_dev', 'Intercept'] + (slope-2*std_devs_df.loc['coefficient std_dev', 'lcavol'])*x\n",
    "y_upper_bound = intercept+std_devs_df.loc['coefficient std_dev', 'Intercept'] + (slope+2*std_devs_df.loc['coefficient std_dev', 'lcavol'])*x\n",
    "plt.plot(x, y, label=r'$y=\\beta_0 + \\beta_{\\mathrm{lcavol}}x$')\n",
    "plt.plot(x, y_upper_bound, label=r'$y=\\beta_0+2\\sigma_{\\beta_0} + (\\beta_{\\mathrm{lcavol}}+2\\sigma_{\\beta_{\\mathrm{lcavol}}})\\mathrm{lcavol}$')\n",
    "plt.plot(x, y_lower_bound, label=r'$y=\\beta_0-2\\sigma_{\\beta_0} + (\\beta_{\\mathrm{lcavol}}-2\\sigma_{\\beta_{\\mathrm{lcavol}}})\\mathrm{lcavol}$')\n",
    "plt.fill_between(x, y_lower_bound, y_upper_bound, alpha=0.2)\n",
    "plt.legend(fontsize='xx-large')\n",
    "#plt.savefig('images/lcavol_prostate.png')\n",
    "plt.show()"
   ]
  },
  {
   "cell_type": "markdown",
   "metadata": {},
   "source": [
    "The slope looks good.\n",
    "The intercept doesn't, but that's hardly a surprise: the line goes up and down according to the value of the other predictors, so since we simply arbitrarily set all of them to zero we couldn't expect to obtain a good univariate linear regression w.r.t. lcavol.  \n",
    "This means that the only thing we can analyze in this graph is the slope. "
   ]
  },
  {
   "cell_type": "markdown",
   "metadata": {},
   "source": [
    "## Selecting the significant predictors"
   ]
  },
  {
   "cell_type": "markdown",
   "metadata": {},
   "source": [
    "We will keep variables with a p-value smaller than $5\\%$ *i.e.* we reject the null hypothesis for variables whose t-score (or Z-score) has an unlikely value ($5\\%$ probability) under the null hypothesis. \n",
    "Under the null hypothesis, the Z-scores follow a t-student distribution with $n-p-1$ degrees of freedom, where $n$ is the number of samples and $p$ is the number of predictors.\n",
    "So in this case they follow the distribution $t_{67-9}$.  \n",
    "Since the $t$-student pdf is symmetric, we can now simply find a critical (positive) value for $t$ for which the survival value is $2.5\\%$ and then exclude variables with $\\vert t \\vert <$`t_critical`."
   ]
  },
  {
   "cell_type": "code",
   "execution_count": 41,
   "metadata": {},
   "outputs": [
    {
     "name": "stdout",
     "output_type": "stream",
     "text": [
      "t_critical: 2.0017174830120927, critical survival value: 0.025000000062729812\n"
     ]
    }
   ],
   "source": [
    "#Use the inverse survival function of the t-statistics function to get the value t_critical for which the probability of having t>t_critical is 0.025.\n",
    "t_critical = stats.t.isf(0.025, 67-9) \n",
    "print('t_critical: {}, critical survival value: {}'.format(t_critical, stats.t.sf(t_critical, 67-9)))"
   ]
  },
  {
   "cell_type": "markdown",
   "metadata": {},
   "source": [
    "Let's visualize what we are doing."
   ]
  },
  {
   "cell_type": "code",
   "execution_count": 72,
   "metadata": {},
   "outputs": [
    {
     "data": {
      "image/png": "[encoded data removed]",
      "text/plain": [
       "<Figure size 1008x432 with 2 Axes>"
      ]
     },
     "metadata": {
      "needs_background": "light"
     },
     "output_type": "display_data"
    }
   ],
   "source": [
    "xs = np.linspace(-4, 4)\n",
    "plt.figure(figsize=(14,6)) \n",
    "\n",
    "#First we plot the pdf of the t distribution.\n",
    "plt.subplot(1, 2, 1); plt.gca().set_title('$t_{67-9}$ pdf')\n",
    "ys = stats.t.pdf(xs, df=67-9)\n",
    "plt.plot(xs, ys); plt.plot(t_critical, stats.t.pdf(t_critical, 67-9), 'ro')\n",
    "#Add fill\n",
    "tail = np.linspace(t_critical, 4)\n",
    "plt.fill_between(tail, stats.t.pdf(tail, 67-9), color='r', alpha=0.5)\n",
    "\n",
    "#Second, we plot the survival function.\n",
    "plt.subplot(1, 2, 2)\n",
    "ys = stats.t.sf(xs, df=67-9)\n",
    "plt.gca().set_title('$t_{67-9}$ survival function')\n",
    "plt.plot(xs, ys); plt.plot(t_critical, stats.t.sf(t_critical, 67-9), 'ro')\n",
    "plt.yticks(list(plt.yticks()[0]) + [stats.t.sf(t_critical, 67-9)])\n",
    "plt.gca().set_ylim([-0.02, 1.02])\n",
    "#Add horizontal line\n",
    "plt.axhline(y=stats.t.sf(t_critical, 67-9), color='r')\n",
    "#plt.savefig('images/tdist_prostate.png')\n",
    "plt.show()"
   ]
  },
  {
   "cell_type": "markdown",
   "metadata": {},
   "source": [
    "Since `t_critical` $\\approx 2$, we will eliminate predictors until all the surviving predictors have |Z-value| higher than $2$."
   ]
  },
  {
   "cell_type": "markdown",
   "metadata": {},
   "source": [
    "One first approach to accomplish this would be to simply eliminate at once all the predictors with a Z-value lower than $2$.  \n",
    "Instead, we will adopt a finer method: we'll use stepwise backward selection with threshold $5\\%$, meaning that we eliminate the predictor with highest p-value (lowest |Z-score|), then re-fit the model, and repeat until all predictors have p-values below the threshold $5\\%$ (|Z-value| above $2$). "
   ]
  },
  {
   "cell_type": "code",
   "execution_count": 24,
   "metadata": {},
   "outputs": [],
   "source": [
    "def find_worst_predictor(df):\n",
    "    '''\n",
    "    df is a Dataframe with the response in the last column, and the predictors in the other columns.\n",
    "    This function makes a linear fit of the data and computes the Z-values.\n",
    "    Outputs a tuple: the column name (of the dataframe df) of the worst predictor, and its |Z-score|.\n",
    "    '''\n",
    "    X_train = df.iloc[:,0:-1] #The last column contains the response.\n",
    "    y_train = df.iloc[:,-1]\n",
    "    #Fit the linear model\n",
    "    regression = LinearRegression().fit(X=X_train, y=y_train)\n",
    "    #Prepare the data to feed into the Z_score function\n",
    "    y_pred = regression.predict(X_train)\n",
    "    beta_hat = regression.coef_\n",
    "    beta_hat = np.concatenate([np.array([regression.intercept_]), beta_hat])\n",
    "    #prepare X\n",
    "    column_of_ones = np.ones((X_train.shape[0],1))\n",
    "    X = np.concatenate([column_of_ones, X_train], axis = 1)\n",
    "    #Z-scores \n",
    "    columns = ['Intercept'] + X_train.columns.to_list()\n",
    "    Zscores = np.array([Z_score(X, y_train.to_numpy(), y_pred, beta_hat)])\n",
    "    Zscores_df = pd.DataFrame(data=Zscores, columns=columns, index=['Z-score'] )\n",
    "    #Extract worst_predictor with highest Zscore, and its Zscore.\n",
    "    Zscores_no_intercept =  Zscores_df.drop(columns=['Intercept']) #We only want to analyze the predictors, so we drop the intercept.\n",
    "    worst_predictor = Zscores_no_intercept.abs().idxmin(axis=1)[0] #Find column with lowest |Zscore|.\n",
    "    score = Zscores_df.loc['Z-score', worst_predictor]\n",
    "    return worst_predictor, np.abs(score)"
   ]
  },
  {
   "cell_type": "markdown",
   "metadata": {},
   "source": [
    "Let's test this:"
   ]
  },
  {
   "cell_type": "code",
   "execution_count": 25,
   "metadata": {},
   "outputs": [
    {
     "data": {
      "text/plain": [
       "('gleason', 0.1466812064437132)"
      ]
     },
     "execution_count": 25,
     "metadata": {},
     "output_type": "execute_result"
    }
   ],
   "source": [
    "find_worst_predictor(train_df_from_source)"
   ]
  },
  {
   "cell_type": "markdown",
   "metadata": {},
   "source": [
    "We get the already known result! Now let's use this function to implement backwards selection."
   ]
  },
  {
   "cell_type": "code",
   "execution_count": 26,
   "metadata": {},
   "outputs": [],
   "source": [
    "def backwards_selection(df, critical_p):\n",
    "    '''\n",
    "    Implements backwards selection on df with threshold critical_p for the p-values.\n",
    "    Returns a tuple:\n",
    "        dataframe without unsignificant predictors;\n",
    "        A log with the record of what variables we dropped, and their scores.\n",
    "    '''\n",
    "    #Initialize log\n",
    "    log = pd.DataFrame(data={}, columns = ['worst predictor', 'Z score', 'p-value'])\n",
    "    #Compute max_p.\n",
    "    worst_predictor, Zscore = find_worst_predictor(df) #Smallest Zscore\n",
    "    dof = len(df.index) - (len(df.columns)-1) - 1 #Degrees of freedom of the t-student distribution = n-p-1\n",
    "    max_p = 2*stats.t.sf(Zscore, dof) #Highest p-value\n",
    "    while max_p > critical_p:\n",
    "        #Update log\n",
    "        log = log.append({'worst predictor': worst_predictor, 'Z score': Zscore, 'p-value': max_p}, ignore_index=True)\n",
    "        #Eliminate non-significant predictor.\n",
    "        df = df.drop(columns=[worst_predictor])\n",
    "        #Update max_p\n",
    "        worst_predictor, Zscore = find_worst_predictor(df) #Smallest Zscore\n",
    "        dof = len(df.index) - (len(df.columns)-1) - 1 #Degrees of freedom of the t-student distribution = n-p-1\n",
    "        max_p = 2*stats.t.sf(Zscore, dof) #Highest p-value\n",
    "    return (df, log)"
   ]
  },
  {
   "cell_type": "markdown",
   "metadata": {},
   "source": [
    "Let's see what variables are dropped when we use the backwards selection with `critical_p`$=5\\%$."
   ]
  },
  {
   "cell_type": "code",
   "execution_count": 27,
   "metadata": {},
   "outputs": [
    {
     "data": {
      "text/html": [
       "<div>\n",
       "<style scoped>\n",
       "    .dataframe tbody tr th:only-of-type {\n",
       "        vertical-align: middle;\n",
       "    }\n",
       "\n",
       "    .dataframe tbody tr th {\n",
       "        vertical-align: top;\n",
       "    }\n",
       "\n",
       "    .dataframe thead th {\n",
       "        text-align: right;\n",
       "    }\n",
       "</style>\n",
       "<table border=\"1\" class=\"dataframe\">\n",
       "  <thead>\n",
       "    <tr style=\"text-align: right;\">\n",
       "      <th></th>\n",
       "      <th>worst predictor</th>\n",
       "      <th>Z score</th>\n",
       "      <th>p-value</th>\n",
       "    </tr>\n",
       "  </thead>\n",
       "  <tbody>\n",
       "    <tr>\n",
       "      <td>0</td>\n",
       "      <td>gleason</td>\n",
       "      <td>0.146681</td>\n",
       "      <td>0.883892</td>\n",
       "    </tr>\n",
       "    <tr>\n",
       "      <td>1</td>\n",
       "      <td>age</td>\n",
       "      <td>1.486490</td>\n",
       "      <td>0.142474</td>\n",
       "    </tr>\n",
       "    <tr>\n",
       "      <td>2</td>\n",
       "      <td>lcp</td>\n",
       "      <td>1.733570</td>\n",
       "      <td>0.088131</td>\n",
       "    </tr>\n",
       "    <tr>\n",
       "      <td>3</td>\n",
       "      <td>pgg45</td>\n",
       "      <td>1.190849</td>\n",
       "      <td>0.238326</td>\n",
       "    </tr>\n",
       "    <tr>\n",
       "      <td>4</td>\n",
       "      <td>lbph</td>\n",
       "      <td>1.988469</td>\n",
       "      <td>0.051179</td>\n",
       "    </tr>\n",
       "    <tr>\n",
       "      <td>5</td>\n",
       "      <td>svi</td>\n",
       "      <td>1.985388</td>\n",
       "      <td>0.051458</td>\n",
       "    </tr>\n",
       "  </tbody>\n",
       "</table>\n",
       "</div>"
      ],
      "text/plain": [
       "  worst predictor   Z score   p-value\n",
       "0         gleason  0.146681  0.883892\n",
       "1             age  1.486490  0.142474\n",
       "2             lcp  1.733570  0.088131\n",
       "3           pgg45  1.190849  0.238326\n",
       "4            lbph  1.988469  0.051179\n",
       "5             svi  1.985388  0.051458"
      ]
     },
     "execution_count": 27,
     "metadata": {},
     "output_type": "execute_result"
    }
   ],
   "source": [
    "backwards_selection(train_df_from_source, 0.05)[1]"
   ]
  },
  {
   "cell_type": "markdown",
   "metadata": {},
   "source": [
    "We drop 6 of our 8 predictors!\n",
    "Notice that the last two predictors had p-values that were very close to $5\\%$. So we can consider keeping them after all by simply moving the threshold to $6\\%$.  "
   ]
  },
  {
   "cell_type": "code",
   "execution_count": 28,
   "metadata": {},
   "outputs": [
    {
     "data": {
      "text/html": [
       "<div>\n",
       "<style scoped>\n",
       "    .dataframe tbody tr th:only-of-type {\n",
       "        vertical-align: middle;\n",
       "    }\n",
       "\n",
       "    .dataframe tbody tr th {\n",
       "        vertical-align: top;\n",
       "    }\n",
       "\n",
       "    .dataframe thead th {\n",
       "        text-align: right;\n",
       "    }\n",
       "</style>\n",
       "<table border=\"1\" class=\"dataframe\">\n",
       "  <thead>\n",
       "    <tr style=\"text-align: right;\">\n",
       "      <th></th>\n",
       "      <th>worst predictor</th>\n",
       "      <th>Z score</th>\n",
       "      <th>p-value</th>\n",
       "    </tr>\n",
       "  </thead>\n",
       "  <tbody>\n",
       "    <tr>\n",
       "      <td>0</td>\n",
       "      <td>gleason</td>\n",
       "      <td>0.146681</td>\n",
       "      <td>0.883892</td>\n",
       "    </tr>\n",
       "    <tr>\n",
       "      <td>1</td>\n",
       "      <td>age</td>\n",
       "      <td>1.486490</td>\n",
       "      <td>0.142474</td>\n",
       "    </tr>\n",
       "    <tr>\n",
       "      <td>2</td>\n",
       "      <td>lcp</td>\n",
       "      <td>1.733570</td>\n",
       "      <td>0.088131</td>\n",
       "    </tr>\n",
       "    <tr>\n",
       "      <td>3</td>\n",
       "      <td>pgg45</td>\n",
       "      <td>1.190849</td>\n",
       "      <td>0.238326</td>\n",
       "    </tr>\n",
       "  </tbody>\n",
       "</table>\n",
       "</div>"
      ],
      "text/plain": [
       "  worst predictor   Z score   p-value\n",
       "0         gleason  0.146681  0.883892\n",
       "1             age  1.486490  0.142474\n",
       "2             lcp  1.733570  0.088131\n",
       "3           pgg45  1.190849  0.238326"
      ]
     },
     "execution_count": 28,
     "metadata": {},
     "output_type": "execute_result"
    }
   ],
   "source": [
    "backwards_selection(train_df_from_source, 0.06)[1]"
   ]
  },
  {
   "cell_type": "markdown",
   "metadata": {},
   "source": [
    "To decide whether we drop them or not, we can use the model error to see if dropping them hurts the performance of the model."
   ]
  },
  {
   "cell_type": "markdown",
   "metadata": {},
   "source": [
    "## Error "
   ]
  },
  {
   "cell_type": "markdown",
   "metadata": {},
   "source": [
    "We will compare the errors (MSE on the test set) of four models: the model with all predictors, the base model, the model after a $5\\%$ backwards selection and the model after a $6\\%$ backwards selection."
   ]
  },
  {
   "cell_type": "markdown",
   "metadata": {},
   "source": [
    "### MSE of the model with all predictors"
   ]
  },
  {
   "cell_type": "code",
   "execution_count": 74,
   "metadata": {},
   "outputs": [
    {
     "name": "stdout",
     "output_type": "stream",
     "text": [
      "regression (with all variables) MSE: 0.5212740055076004\n"
     ]
    }
   ],
   "source": [
    "#Train the model again, for completeness.\n",
    "X_train = train_df_from_source.iloc[:,0:-1] #The last column contains the response lpsa.\n",
    "y_train = train_df_from_source.iloc[:,-1]\n",
    "regression = LinearRegression().fit(X = X_train, y = y_train)\n",
    "#Retrieve the test sets.\n",
    "X_test = test_df_from_source.iloc[:,0:-1] #The last column contains the response lpsa.\n",
    "y_test = test_df_from_source.iloc[:,-1]\n",
    "y_pred = regression.predict(X_test)\n",
    "\n",
    "reg_error_all = skmetrics.mean_squared_error(y_test, y_pred)\n",
    "print('regression (with all variables) MSE: {}'.format(reg_error_all))"
   ]
  },
  {
   "cell_type": "markdown",
   "metadata": {},
   "source": [
    "### The base MSE"
   ]
  },
  {
   "cell_type": "markdown",
   "metadata": {},
   "source": [
    "Let's compare this with the base error rate (*i.e.* the MSE of the base model which simply takes the average as the predicted values)."
   ]
  },
  {
   "cell_type": "code",
   "execution_count": 63,
   "metadata": {},
   "outputs": [
    {
     "name": "stdout",
     "output_type": "stream",
     "text": [
      "base MSE: 1.0530258714099834; regression (with all variables) MSE: 0.5212740055076004; improvement percentage: 0.5049751201177769\n"
     ]
    }
   ],
   "source": [
    "y_pred = np.ones(y_test.shape) * df['lpsa'].mean()\n",
    "base_error = skmetrics.mean_squared_error(y_test, y_pred)\n",
    "print('base MSE: {}; regression (with all variables) MSE: {}; improvement percentage: {}'.format(base_error, reg_error_all, (base_error-reg_error_all)/base_error))"
   ]
  },
  {
   "cell_type": "markdown",
   "metadata": {},
   "source": [
    "It's a good sign that our linear model reduces the base error rate by approximately $50.5\\%$."
   ]
  },
  {
   "cell_type": "markdown",
   "metadata": {},
   "source": [
    "### MSE of the model after backwards selection with threshold $5\\%$."
   ]
  },
  {
   "cell_type": "code",
   "execution_count": 73,
   "metadata": {},
   "outputs": [
    {
     "name": "stdout",
     "output_type": "stream",
     "text": [
      "base MSE: 1.0530258714099834; regression (with 5% backwards selection) MSE: 0.4924823476805037; improvement percentage: 0.532316953408677\n"
     ]
    }
   ],
   "source": [
    "#Drop predictors\n",
    "train_df_after_5backwards, log = backwards_selection(train_df_from_source, 0.05)\n",
    "dropped_predictors = log['worst predictor'].to_list()\n",
    "#Train the model\n",
    "X_train = train_df_after_5backwards.iloc[:,0:-1] #The last column contains the response lpsa.\n",
    "y_train = train_df_after_5backwards.iloc[:,-1]\n",
    "regression = LinearRegression().fit(X = X_train, y = y_train)\n",
    "#Retrieve the test sets.\n",
    "X_test = test_df_from_source.iloc[:,0:-1] #The last column contains the response lpsa.\n",
    "X_test = X_test.drop(columns=dropped_predictors)\n",
    "y_test = test_df_from_source.iloc[:,-1]\n",
    "y_pred = regression.predict(X_test)\n",
    "\n",
    "reg_error_5 = skmetrics.mean_squared_error(y_test, y_pred)\n",
    "print('base MSE: {}; regression (with 5% backwards selection) MSE: {}; improvement percentage: {}'.format(base_error, reg_error_5, (base_error-reg_error_5)/base_error))"
   ]
  },
  {
   "cell_type": "markdown",
   "metadata": {},
   "source": [
    "Which is even lower than the MSE of the model before the cutoff! (Notice that this MSE is *on the test set*).  \n",
    "We see that this improves the base model by approximately $53.2\\%$."
   ]
  },
  {
   "cell_type": "markdown",
   "metadata": {},
   "source": [
    "### MSE of the model after backwards selection with threshold $6\\%$."
   ]
  },
  {
   "cell_type": "code",
   "execution_count": 75,
   "metadata": {},
   "outputs": [
    {
     "name": "stdout",
     "output_type": "stream",
     "text": [
      "base MSE: 1.0530258714099834; regression (with 6% backwards selection) MSE: 0.4563321220401627; improvement percentage: 0.566646808564027\n"
     ]
    }
   ],
   "source": [
    "#Drop predictors\n",
    "train_df_after_5backwards, log = backwards_selection(train_df_from_source, 0.06)\n",
    "dropped_predictors = log['worst predictor'].to_list()\n",
    "#Train the model\n",
    "X_train = train_df_after_5backwards.iloc[:,0:-1] #The last column contains the response lpsa.\n",
    "y_train = train_df_after_5backwards.iloc[:,-1]\n",
    "regression = LinearRegression().fit(X = X_train, y = y_train)\n",
    "#Retrieve the test sets.\n",
    "X_test = test_df_from_source.iloc[:,0:-1] #The last column contains the response lpsa.\n",
    "X_test = X_test.drop(columns=dropped_predictors)\n",
    "y_test = test_df_from_source.iloc[:,-1]\n",
    "y_pred = regression.predict(X_test)\n",
    "\n",
    "reg_error_6 = skmetrics.mean_squared_error(y_test, y_pred)\n",
    "print('base MSE: {}; regression (with 6% backwards selection) MSE: {}; improvement percentage: {}'.format(base_error, reg_error_6, (base_error-reg_error_6)/base_error))"
   ]
  },
  {
   "cell_type": "markdown",
   "metadata": {},
   "source": [
    "The improvement percentage is approximately $56.7\\%$.  \n",
    "This model gives us the best MSE, as suspected. So we keep it."
   ]
  },
  {
   "cell_type": "code",
   "execution_count": 82,
   "metadata": {},
   "outputs": [
    {
     "data": {
      "text/html": [
       "<div>\n",
       "<style scoped>\n",
       "    .dataframe tbody tr th:only-of-type {\n",
       "        vertical-align: middle;\n",
       "    }\n",
       "\n",
       "    .dataframe tbody tr th {\n",
       "        vertical-align: top;\n",
       "    }\n",
       "\n",
       "    .dataframe thead th {\n",
       "        text-align: right;\n",
       "    }\n",
       "</style>\n",
       "<table border=\"1\" class=\"dataframe\">\n",
       "  <thead>\n",
       "    <tr style=\"text-align: right;\">\n",
       "      <th></th>\n",
       "      <th>Base</th>\n",
       "      <th>All predictors</th>\n",
       "      <th>5% backwards selection</th>\n",
       "      <th>6% backwards selection</th>\n",
       "    </tr>\n",
       "  </thead>\n",
       "  <tbody>\n",
       "    <tr>\n",
       "      <td>MSE</td>\n",
       "      <td>1.053026</td>\n",
       "      <td>0.521274</td>\n",
       "      <td>0.492482</td>\n",
       "      <td>0.456332</td>\n",
       "    </tr>\n",
       "    <tr>\n",
       "      <td>Improvement w.r.t. base (%)</td>\n",
       "      <td>0.000000</td>\n",
       "      <td>0.504975</td>\n",
       "      <td>0.532317</td>\n",
       "      <td>0.566647</td>\n",
       "    </tr>\n",
       "  </tbody>\n",
       "</table>\n",
       "</div>"
      ],
      "text/plain": [
       "                                 Base  All predictors  5% backwards selection  \\\n",
       "MSE                          1.053026        0.521274                0.492482   \n",
       "Improvement w.r.t. base (%)  0.000000        0.504975                0.532317   \n",
       "\n",
       "                             6% backwards selection  \n",
       "MSE                                        0.456332  \n",
       "Improvement w.r.t. base (%)                0.566647  "
      ]
     },
     "execution_count": 82,
     "metadata": {},
     "output_type": "execute_result"
    }
   ],
   "source": [
    "summary_table = pd.DataFrame({'Base': [base_error, 0], 'All predictors': [reg_error_all, (base_error-reg_error_all)/base_error],'5% backwards selection': [reg_error_5, (base_error-reg_error_5)/base_error], '6% backwards selection': [reg_error_6, (base_error-reg_error_6)/base_error]} , index=['MSE', 'Improvement w.r.t. base (%)'])\n",
    "summary_table"
   ]
  },
  {
   "cell_type": "markdown",
   "metadata": {},
   "source": [
    "## Conclusion"
   ]
  },
  {
   "cell_type": "markdown",
   "metadata": {},
   "source": [
    "The univariate plots suggest a linear relationship between many of the predictors and the response.  \n",
    "Unsurprisingly, a multilinear model (using all the predictors) fits the data well, improving the base error (of the model which simply predicts the average) by $50.5\\%$.  \n",
    "However, some of the predictors turn out to be superfluous.\n",
    "Using backwards selection with a threshold of $5\\%$ on the p-value of the Z-scores actually improves our error on the test set: the base error is improves by $53.2\\%$.  \n",
    "Analyzing the Z-scores more carefully, one sees that it is actually better to cap the p-values at $6\\%$ instead, and indeed the resulting model (which drops the predictors gleason, age, lcp and pgg45) behaves the best, with an improvement of $56.7\\%$ w.r.t. the base error."
   ]
  },
  {
   "cell_type": "markdown",
   "metadata": {},
   "source": [
    "## References:\n",
    "- [Hastie]: 'The Elements of Statistical Learning' by Trevor Hastie et al.\n",
    "- [Gareth]: 'Introduction to Statistical Learning' by Gareth James et al.\n",
    "- [Casella]: 'Statistical Inference' by George Casella and Roger Berger.\n",
    "- [Downey]: 'Think stats' by Allen Downey.\n",
    "- [Stamey]: Stamey, Thomas A., et al. \"Prostate specific antigen in the diagnosis and treatment of adenocarcinoma of the prostate. II. Radical prostatectomy treated patients.\" The Journal of urology 141.5 (1989): 1076-1083."
   ]
  }
 ],
 "metadata": {
  "kernelspec": {
   "display_name": "Python 3",
   "language": "python",
   "name": "python3"
  },
  "language_info": {
   "codemirror_mode": {
    "name": "ipython",
    "version": 3
   },
   "file_extension": ".py",
   "mimetype": "text/x-python",
   "name": "python",
   "nbconvert_exporter": "python",
   "pygments_lexer": "ipython3",
   "version": "3.7.4"
  }
 },
 "nbformat": 4,
 "nbformat_minor": 4
}
